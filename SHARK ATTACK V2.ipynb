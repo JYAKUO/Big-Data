{
 "cells": [
  {
   "cell_type": "markdown",
   "metadata": {},
   "source": [
    "# Shark Attacks"
   ]
  },
  {
   "cell_type": "code",
   "execution_count": 2,
   "metadata": {
    "collapsed": false
   },
   "outputs": [],
   "source": [
    "file=open(\"sharkattacks.csv\",\"r\",errors=\"ignore\")\n",
    "alist=[]\n",
    "for ii in file:\n",
    "    alist.append(ii)\n",
    "del alist [0]\n",
    "for j in range (len(alist)):\n",
    "    alist[j]=alist[j].split(\",\")\n",
    "\n",
    "    \n",
    "file=open (\"sharkattacks2.csv\",\"r\",errors=\"ignore\")\n",
    "blist=[]\n",
    "for ii in file: \n",
    "    blist.append(ii);\n",
    "    \n",
    "del blist [0]\n",
    "for j in range (len(blist)):\n",
    "    blist[j]=blist[j].split(\",\")\n",
    "    \n",
    "import matplotlib.pyplot as plt\n",
    "%matplotlib inline \n",
    "import operator\n",
    "    \n",
    "    \n",
    "#sex***\n",
    "#activities ***\n",
    "#type of shark attack ***\n",
    "#Location ***\n",
    "#Histogram of type of Shark attack\n",
    "#histogram of Location\n",
    "#histogram of Activities\n",
    "#Hisogram of Sex"
   ]
  },
  {
   "cell_type": "code",
   "execution_count": 3,
   "metadata": {
    "collapsed": false
   },
   "outputs": [
    {
     "name": "stdout",
     "output_type": "stream",
     "text": [
      "Unprovoked 4385\n",
      "Boat 200\n",
      "Invalid 519\n",
      "Provoked 557\n"
     ]
    }
   ],
   "source": [
    "typeofsharkattack={\"Boat\":0, \"Unprovoked\":0, \"Provoked\":0, \"Invalid\":0}\n",
    "\n",
    "typeofattack=[]\n",
    "\n",
    "for i in range (len(alist)):\n",
    "    typeofattack.append(alist[i][0])\n",
    "\n",
    "for i in range(len(typeofattack)):\n",
    "        \n",
    "        if typeofattack [i] in typeofsharkattack:\n",
    "            typeofsharkattack[typeofattack[i]]+=1\n",
    "\n",
    "for y in typeofsharkattack:\n",
    "    print(y, typeofsharkattack[y])\n"
   ]
  },
  {
   "cell_type": "code",
   "execution_count": 4,
   "metadata": {
    "collapsed": false,
    "scrolled": true
   },
   "outputs": [
    {
     "name": "stdout",
     "output_type": "stream",
     "text": [
      "0 567\n",
      "lli 1\n",
      "M  2\n",
      ". 1\n",
      "F 585\n",
      "M 4834\n",
      "N 1\n"
     ]
    }
   ],
   "source": [
    "sex=[]\n",
    "\n",
    "for i in range (len(blist)):\n",
    "    sex.append(blist[i][0])\n",
    "\n",
    "\n",
    "\n",
    "#Sex\n",
    "mflookup = {}\n",
    "\n",
    "for i in range(len(sex)):\n",
    "    if sex[i] not in mflookup:\n",
    "        mflookup[sex[i]] = 1\n",
    "    else:\n",
    "        mflookup[sex[i]]+=1\n",
    "    \n",
    "    \n",
    "for y in mflookup:\n",
    "    print(y, mflookup[y])\n",
    "    \n",
    "activities=[]\n",
    "\n",
    "for i in range (len(blist)):\n",
    "    activities.append(blist[i][1])\n",
    "    \n",
    "\n"
   ]
  },
  {
   "cell_type": "code",
   "execution_count": 13,
   "metadata": {
    "collapsed": false
   },
   "outputs": [],
   "source": [
    "#Activities\n",
    "\n",
    "actlookup = {}\n",
    "\n",
    "for i in range(len(activities)):\n",
    "    if activities[i] not in actlookup:\n",
    "        actlookup[activities[i]] = 1\n",
    "    else:\n",
    "        actlookup[activities[i]]+=1\n",
    "sorteda= sorted(actlookup.items(), key=operator.itemgetter(1), reverse=True)\n",
    "    \n",
    "#Remember to just print the last one \n",
    "#181 people swimming\n",
    "\n",
    "#I left Print Sorteda out so that it doesn't print this super long list\n",
    "    "
   ]
  },
  {
   "cell_type": "code",
   "execution_count": 12,
   "metadata": {
    "collapsed": false
   },
   "outputs": [],
   "source": [
    "#Place\n",
    "\n",
    "place=[]\n",
    "\n",
    "for i in range (len(blist)):\n",
    "    place.append(blist[i][2])\n",
    "\n",
    "placelookup = {}\n",
    "\n",
    "for i in range(len(place)):\n",
    "    if place[i] not in placelookup:\n",
    "        placelookup[place[i]] = 1\n",
    "    else:\n",
    "        placelookup[place[i]]+=1\n",
    "    \n",
    "#Remember to just print the last one \n",
    "sortedb= sorted(placelookup.items(), key=operator.itemgetter(1), reverse=True)\n",
    "\n",
    "#I left Print SortedB out so that if didn't print this insanely long list\n",
    "\n",
    "    \n",
    "#Texas 71\n",
    "#Florida 990\n",
    "#Hawaii 282\n",
    "#Western Cape province 188\n",
    "#South Australia 103\n",
    "#Western Australia 172\n",
    "#Eastern Cape Province 156\n"
   ]
  },
  {
   "cell_type": "code",
   "execution_count": 7,
   "metadata": {
    "collapsed": false,
    "scrolled": true
   },
   "outputs": [
    {
     "data": {
      "image/png": "[encoded data removed]",
      "text/plain": [
       "<matplotlib.figure.Figure at 0x20272560fd0>"
      ]
     },
     "metadata": {},
     "output_type": "display_data"
    }
   ],
   "source": [
    "#male female Histogram\n",
    "\n",
    "x=range(5000)\n",
    "\n",
    "female=[200]\n",
    "male=[557]\n",
    "uknown=[519]\n",
    "\n",
    "xcoordinates1=[1,2,3]\n",
    "mfchart=[585,4834,567]\n",
    "\n",
    "\n",
    "\n",
    "plt.title(\"No. of those Attacked\")\n",
    "plt.xlabel(\"Sex of those Attacked\")\n",
    "plt.ylabel(\"No. of Sharks\")\n",
    "plt.bar(xcoordinates1,mfchart, color = 'g', tick_label=[\"female\",\"male\",\"unknown\"])\n",
    "plt.show()"
   ]
  },
  {
   "cell_type": "code",
   "execution_count": 8,
   "metadata": {
    "collapsed": false
   },
   "outputs": [
    {
     "data": {
      "image/png": "[encoded data removed]",
      "text/plain": [
       "<matplotlib.figure.Figure at 0x20272602e80>"
      ]
     },
     "metadata": {},
     "output_type": "display_data"
    }
   ],
   "source": [
    "# Aggrivation type Histogram\n",
    "x=range(5000)\n",
    "\n",
    "Surfing=[904]\n",
    "Swimming=[818]\n",
    "Fishing=[735]\n",
    "Wading=[297]\n",
    "Diving=[151]\n",
    "\n",
    "xcoordinates=[1,2,3,4,5]\n",
    "attack=[904,818,735,297,151]\n",
    "\n",
    "\n",
    "\n",
    "plt.title(\"Popular Activities That Result in Shark Attacks\")\n",
    "plt.xlabel(\"Activities\")\n",
    "plt.ylabel(\"No. of Attacks\")\n",
    "plt.bar(xcoordinates,attack, color = 'g', tick_label=[\"Surfing\",\"Swimming\",\"Fishing\",\"Wading\",\"Diving\"])\n",
    "plt.show()"
   ]
  },
  {
   "cell_type": "code",
   "execution_count": 9,
   "metadata": {
    "collapsed": false
   },
   "outputs": [
    {
     "data": {
      "image/png": "[encoded data removed]",
      "text/plain": [
       "<matplotlib.figure.Figure at 0x2026ffb8160>"
      ]
     },
     "metadata": {},
     "output_type": "display_data"
    }
   ],
   "source": [
    "#Activities Hist\n",
    "\n",
    "x=range(5000)\n",
    "\n",
    "unprovoked=[4385]\n",
    "boat=[200]\n",
    "provoked=[557]\n",
    "invalid=[519]\n",
    "\n",
    "xcoordinates=[1,2,3,4]\n",
    "attack=[200,519,557,4358]\n",
    "\n",
    "\n",
    "\n",
    "plt.title(\"Sharks Aggrivation Level\")\n",
    "plt.xlabel(\"Aggrivation Type\")\n",
    "plt.ylabel(\"No. of Sharks\")\n",
    "plt.bar(xcoordinates,attack, color = 'g', tick_label=[\"boat\",\"invalid\",\"provoked\",\"unprovoked\"])\n",
    "plt.show()\n"
   ]
  },
  {
   "cell_type": "code",
   "execution_count": 10,
   "metadata": {
    "collapsed": false
   },
   "outputs": [
    {
     "data": {
      "image/png": "[encoded data removed]",
      "text/plain": [
       "<matplotlib.figure.Figure at 0x20272eec0b8>"
      ]
     },
     "metadata": {},
     "output_type": "display_data"
    }
   ],
   "source": [
    "#Locations for Attack\n",
    "x=range(1200)\n",
    "\n",
    "Florida=[990]\n",
    "NewSouthWales=[468]\n",
    "Queensland=[300]\n",
    "Hawaii=[282]\n",
    "California=[276]\n",
    "\n",
    "\n",
    "xcoordinates=[1,2,3,4,5]\n",
    "attack=[990,468,300,282,276]\n",
    "\n",
    "\n",
    "plt.title(\"Popular Locations for Shark Attacks\")\n",
    "plt.xlabel(\"Locations\")\n",
    "plt.ylabel(\"No. of Shark Attacks\")\n",
    "plt.bar(xcoordinates,attack, color = 'g', tick_label=[\"Florida\",\"New South Wales\",\"Queensland\",\"Hawaii\",\"California\"])\n",
    "plt.show()\n"
   ]
  },
  {
   "cell_type": "markdown",
   "metadata": {},
   "source": [
    "# Analysis"
   ]
  },
  {
   "cell_type": "markdown",
   "metadata": {},
   "source": [
    "  Starting off, there are definitley uncertainties even with the data. Although there were a little over 500 invalid attacks, it wouldn't even if meant much if they were provoked. There would still be many more unprovoked attacks than, provoked, by a larg margin. Next up were the sex's that got attacked. Similar case as the type of shark attack, there were over 500 unidentified victims. Even if they had been female, the amount of males would still greatly outweigh them. For the activities, it was clear that a mjaority of them were for recreational purposes. I took the top five and used them, but throughout the lists there were other activities that were similar. Things like paddle boarding Snorkling, and Spearfishing. This is just to keep in mind that the aquatic recreations are probably more popular than they appear on the graphs. There wasn't much error or uncertainty with the locations of attacks because it was just straightforward. The most danegerous places were a hotbed for tourists or fishing industries. They also led the pack by a lot, which had led me to believe it wasn't just coincidence that there was a pattern. "
   ]
  },
  {
   "cell_type": "markdown",
   "metadata": {},
   "source": [
    "Males almost have double the risk that females do to get attacked by sharks, with 4,834 attacks. This could be due to the amount of aquatic sports that men partake in compared to women. For example, surfing is a predominantly male populated sport and probably not the only one in terms of aquatics(\"Julian Sonny\"). Another example would be fishing which also happens to be a male dominated industry. Swimming however would be a less gender divided activity. As for locations, it would only be natural for sharks to be densely populated by the sea or the ocean. Places that are very likely to be tourist attractions, fishing ports, or locations for aquatic sports. There could definitely be some outliers in this case as boating, can really take place anywhere, and in fact is better in quieter areas. However of all this data, the one category that I found by the most intriguing was why the shark attacked. Although the data set didn't tell specifically as to why the shark attacked, it does tell us whether they were aggravated or not. Surprising most of the attacks were from unprovoked sharks which was the most surprising. Media is always trying to convince people that unprovoked sharks are less dangerous than provoked sharks, and that for the most part they won't attack without a reason. Although that might be true the ratio for unprovoked sharks and provoked sharks is very far apart (\"Christine Mai-Duc\"). If someone were to swim with sharks holding the mentality that they have a better chance not getting attacked if they didn't provoke them, they would be lying to themselves."
   ]
  },
  {
   "cell_type": "markdown",
   "metadata": {
    "collapsed": true
   },
   "source": [
    "Although I talked about how unprovoked sharks attack way more than provoked sharks, you're not very likely to be bitten by a shark. You're actually more likely to be trampled by a cow. I just wanted to point out that more unprovoked sharks have attacked humans than provoked sharks. With how aquatic activities are divided among the genders it's not really as huge surprise that males are the highest primary victims. Looking back at everything, there’s one take away to get from this data. You don't want to be a male in an oceanic tourist attraction doing anything in the water. Also don't assume that unprovoked sharks are necessarily friendlier.\n"
   ]
  },
  {
   "cell_type": "markdown",
   "metadata": {},
   "source": [
    "   Sonny, Julian. \"Surfer Chicks Are the Future Of A Male-Dominated, Billion-Dollar Industry.\" Elite Daily. N.p., 06 Aug. 2015. Web. 1 Jan. 2017. <http://elitedaily.com/sports/surfer-chicks-future-of-male-dominated-billion-dollar-industry-photos/1162703/>.\n",
    "   \n",
    "   Mai-Duc, Christine. \"Fatal Shark Attacks: How Rare They Are and How to Stay Safe.\" Los Angeles Times. Los Angeles Times, 30 Apr. 2015. Web. 5 Jan. 2017. <http://www.latimes.com/nation/nationnow/la-na-nn-shark-attack-rare-20150430-htmlstory.html>."
   ]
  },
  {
   "cell_type": "code",
   "execution_count": null,
   "metadata": {
    "collapsed": true
   },
   "outputs": [],
   "source": []
  }
 ],
 "metadata": {
  "anaconda-cloud": {},
  "kernelspec": {
   "display_name": "Python [Root]",
   "language": "python",
   "name": "Python [Root]"
  },
  "language_info": {
   "codemirror_mode": {
    "name": "ipython",
    "version": 3
   },
   "file_extension": ".py",
   "mimetype": "text/x-python",
   "name": "python",
   "nbconvert_exporter": "python",
   "pygments_lexer": "ipython3",
   "version": "3.5.2"
  }
 },
 "nbformat": 4,
 "nbformat_minor": 0
}
