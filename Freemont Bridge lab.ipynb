{
 "cells": [
  {
   "cell_type": "markdown",
   "metadata": {},
   "source": [
    "# Freemont Bridge Lab"
   ]
  },
  {
   "cell_type": "markdown",
   "metadata": {},
   "source": [
    "By: Justin Kuo\n",
    "\n",
    "\n",
    "Doc: Ben Hoover, Jai Naidu\n",
    "\n",
    "9/20/2016\n",
    "\n",
    "8th period"
   ]
  },
  {
   "cell_type": "code",
   "execution_count": 68,
   "metadata": {
    "collapsed": false
   },
   "outputs": [
    {
     "name": "stdout",
     "output_type": "stream",
     "text": [
      "West Side [1393, 1745, 1532, 1425, 826, 466, 1107, 1733, 2070, 1961, 1863, 1178, 648, 1615, 1795, 1782, 1160, 1461, 981, 712, 1824, 2190, 2270, 2086, 1314, 899, 895, 1907, 2097, 1992]\n",
      "East Side [1483, 1867, 1627, 1512, 770, 425, 898, 1932, 2243, 2069, 1898, 1013, 679, 1669, 1862, 1949, 1293, 1539, 853, 591, 1981, 2361, 2292, 2235, 1370, 869, 676, 1955, 2239, 2063]\n",
      "the mean for the west end 1497.5666666666666\n",
      "the median for the west end 1573.5\n",
      "the mean for the east end 1540.4333333333334\n",
      "the median for the east end 1648.0\n",
      "There is no mode because there are no equally common values in this dataset\n"
     ]
    }
   ],
   "source": [
    "\n",
    "import statistics\n",
    "import matplotlib.pyplot as plt\n",
    "%matplotlib inline \n",
    "#File Reading\n",
    "#Emma Anderson, Big Data, 9/7/16\n",
    "#open and save the file for reading\n",
    "data_file = open(\"FreBridge1.csv\", \"r\");\n",
    "#create an empty list to store the data\n",
    "data_list = [];\n",
    "#put all lines from the file into a list\n",
    "for ii in data_file:\n",
    "    data_list.append(ii);\n",
    "\n",
    "#remove the first element (column header)\n",
    "del data_list[0];\n",
    "#create empty lists for westbound and eastbound bikes\n",
    "west = [];\n",
    "east = [];    \n",
    "for jj in range(len(data_list)):\n",
    "    #make into a list of lists of just numbers\n",
    "    data_list[jj] = data_list[jj].split(\",\");\n",
    "    #add data to specific lists for west and east\n",
    "    west.append(int(data_list[jj][1]));\n",
    "    east.append(int(data_list[jj][2]));\n",
    "\n",
    "print(\"West Side\",west)\n",
    "print(\"East Side\",east)\n",
    "print(\"the mean for the west end\", statistics.mean(west))\n",
    "print(\"the median for the west end\", statistics.median(west))\n",
    "print(\"the mean for the east end\", statistics.mean(east))\n",
    "print(\"the median for the east end\", statistics.median(east))\n",
    "print(\"There is no mode because there are no equally common values in this dataset\")\n"
   ]
  },
  {
   "cell_type": "markdown",
   "metadata": {},
   "source": [
    "# Part 1 Analysis"
   ]
  },
  {
   "cell_type": "markdown",
   "metadata": {},
   "source": [
    "This dataset represents the amount of pedestrian traffic there is on the freemont bridge. Since there is no repeating value in this dataset there is no mode. The data for predestrian traffic is pretty stable so the median and mean will tend to be similar. However, the median does take a perfect average unlike the mean so using the mean would be more beneficial than the median. In other situations, the data you use might not necessarily be as similar as this set. Your median might be skewed by the unpredictable, so using the mean would gurantee that your number of best fit is not based off of an estimate.In this bridge case, the most important statistic woul definitley be the average. By taking this statistic you could know which week, day, or month had the highest or lowest amounts of corssing. Another important statistic would be the leargest number or the lowest number in the dataset. You might be able to make connections with these stray data points to holidays, snow days, and etc.  "
   ]
  },
  {
   "cell_type": "code",
   "execution_count": 72,
   "metadata": {
    "collapsed": false
   },
   "outputs": [
    {
     "name": "stdout",
     "output_type": "stream",
     "text": [
      "West entrance data\n",
      "the mean for tuesday is 1777.75\n",
      "the mean for wedensday is 1966.75\n",
      "the mean for thursday is 1684.75\n",
      "the mean for friday is 1515.75\n",
      "the mean for saturday is 971\n",
      "the mean for sunday is 680.25\n",
      "the mean for monday is 1613.25\n",
      "Highest traffic day\n",
      "2270\n"
     ]
    },
    {
     "data": {
      "text/plain": [
       "<matplotlib.text.Text at 0x160f4b55358>"
      ]
     },
     "execution_count": 72,
     "metadata": {},
     "output_type": "execute_result"
    },
    {
     "data": {
      "image/png": "[encoded data removed]",
      "text/plain": [
       "<matplotlib.figure.Figure at 0x160f4ac5c18>"
      ]
     },
     "metadata": {},
     "output_type": "display_data"
    }
   ],
   "source": [
    "tues=[]\n",
    "weds=[]\n",
    "thurs=[]\n",
    "fri=[]\n",
    "sat=[]\n",
    "sun=[]\n",
    "mon=[]\n",
    "\n",
    "\n",
    "for jj in range (0,28,7):\n",
    "    tues.append(west[jj])\n",
    "    weds.append(west[jj+1])\n",
    "    thurs.append(west[jj+2])\n",
    "    fri.append(west[jj+3])\n",
    "    sat.append(west[jj+4])\n",
    "    sun.append(west[jj+5])\n",
    "    mon.append(west[jj+6])\n",
    "    \n",
    "print (\"West entrance data\")\n",
    "print(\"the mean for tuesday is\", statistics.mean(tues))\n",
    "print(\"the mean for wedensday is\", statistics.mean(weds))\n",
    "print(\"the mean for thursday is\", statistics.mean(thurs))\n",
    "print(\"the mean for friday is\", statistics.mean(fri))\n",
    "print(\"the mean for saturday is\", statistics.mean(sat))\n",
    "print(\"the mean for sunday is\", statistics.mean(sun))\n",
    "print(\"the mean for monday is\", statistics.mean(mon))\n",
    "\n",
    "print (\"Highest traffic day\")\n",
    "print(max(west))\n",
    "\n",
    "\n",
    "\n",
    "\n",
    "plt.boxplot(weds)\n",
    "plt.xlabel(\"Wedensday\")\n",
    "plt.ylabel(\"Pedestrian Crossing\")\n",
    "plt.title(\"Pedestrian Crossing on Wedensday\")"
   ]
  },
  {
   "cell_type": "markdown",
   "metadata": {},
   "source": [
    "On the west side, the day of the week that has the highest amount of pedestrian traffic is Wedensday with an average of 1966.75 people. "
   ]
  },
  {
   "cell_type": "code",
   "execution_count": 73,
   "metadata": {
    "collapsed": false
   },
   "outputs": [
    {
     "name": "stdout",
     "output_type": "stream",
     "text": [
      "East Entrance Data\n",
      "the mean for tuesday is 1909.5\n",
      "the mean for wedensday is 2087.75\n",
      "the mean for thursday is 1806\n",
      "the mean for friday is 1579.75\n",
      "the mean for saturday is 876.25\n",
      "the mean for sunday is 592.75\n",
      "the mean for monday is 1625.75\n"
     ]
    },
    {
     "data": {
      "text/plain": [
       "<matplotlib.text.Text at 0x160f4bb0f60>"
      ]
     },
     "execution_count": 73,
     "metadata": {},
     "output_type": "execute_result"
    },
    {
     "data": {
      "image/png": "[encoded data removed]",
      "text/plain": [
       "<matplotlib.figure.Figure at 0x160f4b4b6a0>"
      ]
     },
     "metadata": {},
     "output_type": "display_data"
    }
   ],
   "source": [
    "tues=[]\n",
    "weds=[]\n",
    "thurs=[]\n",
    "fri=[]\n",
    "sat=[]\n",
    "sun=[]\n",
    "mon=[]\n",
    "\n",
    "for jj in range(0,28,7):\n",
    "    tues.append(east[jj])\n",
    "    weds.append(east[jj+1])\n",
    "    thurs.append(east[jj+2])\n",
    "    fri.append(east[jj+3])\n",
    "    sat.append(east[jj+4])\n",
    "    sun.append(east[jj+5])\n",
    "    mon.append(east[jj+6])\n",
    "    \n",
    "\n",
    "print (\"East Entrance Data\")    \n",
    "print(\"the mean for tuesday is\", statistics.mean(tues))\n",
    "print(\"the mean for wedensday is\", statistics.mean(weds))\n",
    "print(\"the mean for thursday is\", statistics.mean(thurs))\n",
    "print(\"the mean for friday is\", statistics.mean(fri))\n",
    "print(\"the mean for saturday is\", statistics.mean(sat))\n",
    "print(\"the mean for sunday is\", statistics.mean(sun))\n",
    "print(\"the mean for monday is\", statistics.mean(mon))\n",
    "\n",
    "plt.boxplot(weds)\n",
    "plt.xlabel(\"Wedensday\")\n",
    "plt.ylabel(\"Pedestrian Crossing\")\n",
    "plt.title(\"Pedestrian Crossing on Wedensday\")\n"
   ]
  },
  {
   "cell_type": "markdown",
   "metadata": {
    "collapsed": true
   },
   "source": [
    "On the east side, the day of the week that has the highest amount of pedestrian traffic is Wedensday with an average of 2087.5 people."
   ]
  },
  {
   "cell_type": "markdown",
   "metadata": {},
   "source": [
    "Finding the highest crossed days on the east side and on the west side was quite simple. I made lists for the days of the week and appended it in a way that puts values in each specific day. Once there were values from the spreadsheet I simply took the individual average of all the days. Then running the code, you're able to see all the average crossings side by side, and from here you can also see the maximum for each side of the bridge. "
   ]
  },
  {
   "cell_type": "code",
   "execution_count": 61,
   "metadata": {
    "collapsed": false,
    "scrolled": true
   },
   "outputs": [
    {
     "name": "stdout",
     "output_type": "stream",
     "text": [
      "The average for 2013 September Fall Fridays 2734.5\n",
      "The average for 2014 September Fall Fridays 3583.75\n",
      "The average for 2015 September Fall Fridays 3095.5\n",
      "[2734.5, 3583.75, 3095.5]\n",
      "Mean of all the fridays in September that are during the fall 3137.9166666666665\n",
      "Because we took the numbers during the fall end of September which is around where September 30 lies, this average is a very close prediction\n"
     ]
    }
   ],
   "source": [
    "data_file =open(\"FreBridge2.csv\",\"r\")\n",
    "data_list=[];\n",
    "for ll in data_file:\n",
    "    data_list.append(ll);\n",
    "    \n",
    "del data_list[0];\n",
    "\n",
    "west=[];\n",
    "east=[];\n",
    "\n",
    "for mm in range(len(data_list)):\n",
    "    data_list[mm]=data_list[mm].split(\",\");\n",
    "    west.append(int(data_list[mm][1]));\n",
    "    east.append(int(data_list[mm][2]))\n",
    "\n",
    "full_data=[];\n",
    "\n",
    "for k in range (len(west)):\n",
    "    full_data.append(west[k] + east[k])\n",
    "\n",
    "\n",
    "friday2013=[]\n",
    "friday2014=[]\n",
    "friday2015=[]\n",
    "averagefridays=[]\n",
    "\n",
    "\n",
    "for tt in range (338,363,7):\n",
    "    friday2013.append(full_data[tt])\n",
    "    \n",
    "for uu in range (702,728,7):\n",
    "    friday2014.append(full_data[uu])\n",
    "    \n",
    "for oo in range (1066,1093,7):\n",
    "    friday2015.append(full_data[oo])\n",
    "    \n",
    "averagefridays.append (statistics.mean(friday2013))\n",
    "averagefridays.append (statistics.mean(friday2014))   \n",
    "averagefridays.append (statistics.mean(friday2015))\n",
    "   \n",
    "print(\"The average for 2013 September Fall Fridays\",statistics.mean(friday2013))\n",
    "print(\"The average for 2014 September Fall Fridays\",statistics.mean(friday2014))\n",
    "print(\"The average for 2015 September Fall Fridays\",statistics.mean(friday2015))\n",
    "\n",
    "\n",
    "print(averagefridays)\n",
    "\n",
    "print(\"Mean of all the fridays in September that are during the fall\", statistics.mean(averagefridays))\n",
    "print(\"Because we took the numbers during the fall end of September which is around where September 30 lies, this average is a very close prediction\")\n",
    "\n"
   ]
  },
  {
   "cell_type": "markdown",
   "metadata": {},
   "source": [
    "Based off of this information, I can make an estimation regarding the number of crossings in September 30 2016. Since the average for the years past fall on 3137.916666666665, I can just pick some number close to that and call it done. \n",
    "\n",
    "My Pick: 3140 pedestrians"
   ]
  },
  {
   "cell_type": "markdown",
   "metadata": {},
   "source": [
    "# Part 2 Analysis"
   ]
  },
  {
   "cell_type": "markdown",
   "metadata": {},
   "source": [
    "The idea behind predicting the crossings on Friday, September 30, is to average all the Fridays. However, theres too many factors throughout the year and months that might skew the accuracy of an overall average. So instead, I took into account the fall crossings of three anually different Friday's during the end of September (in the fall). I decided to manually average the dates instead of using a standard deviation, because being able to take out any outliers gave us more accurate results. In a standard deviation, even if the the outliers don't play a huge role, its still accounted for. The margin of error would probably be within 100, because the average of crossings does not necessarily have a upwards trend. As you can see for the 2015 data, it actually went down from 2014. This shows that there is not that certain of an upward trend for whats to come in 2016. By taking the average, we are taking what we already know and hoping that whats to come will fall somwhere around our previous data.   "
   ]
  },
  {
   "cell_type": "markdown",
   "metadata": {},
   "source": [
    "# Conclusion"
   ]
  },
  {
   "cell_type": "markdown",
   "metadata": {},
   "source": [
    "Initially had trouble understanding some of the code and using it in a statistical format. Part 1 was farily straightforward and got me averaging most things, which I found was a very good way to get important information out of a data set. I averaged a bunch more things in the lab, because averaging numbers in general give you a trend, and if we're trying to find patterns theres not better tactic to resrot to. I chose not to use standrad deviation in part 2 not only because of the outliers, but also because my lack of experience using outliers. I also found that just taking averages also works just as well in this case as if I were to use standard deviations. Taking the averages, I was also able to take out the outliers so that my data wasn't skewed. However, in a standard deviation the outliers to get accounted for. These outliers weren't necessarily important numbers for part 2, so my data would've gotten skewed for no real significant reason. "
   ]
  },
  {
   "cell_type": "code",
   "execution_count": null,
   "metadata": {
    "collapsed": true
   },
   "outputs": [],
   "source": []
  }
 ],
 "metadata": {
  "anaconda-cloud": {},
  "kernelspec": {
   "display_name": "Python [Root]",
   "language": "python",
   "name": "Python [Root]"
  },
  "language_info": {
   "codemirror_mode": {
    "name": "ipython",
    "version": 3
   },
   "file_extension": ".py",
   "mimetype": "text/x-python",
   "name": "python",
   "nbconvert_exporter": "python",
   "pygments_lexer": "ipython3",
   "version": "3.5.2"
  }
 },
 "nbformat": 4,
 "nbformat_minor": 0
}
