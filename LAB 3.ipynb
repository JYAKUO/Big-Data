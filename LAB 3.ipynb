{
 "cells": [
  {
   "cell_type": "markdown",
   "metadata": {},
   "source": [
    "# Looking at Police Violence as a Whole and Specifically Peratining to African Americans\n",
    "\n",
    "By Justin Kuo\n",
    "\n",
    "Doc: Jai Naidu"
   ]
  },
  {
   "cell_type": "code",
   "execution_count": 3,
   "metadata": {
    "collapsed": false
   },
   "outputs": [],
   "source": [
    "import statistics\n",
    "import scipy.stats as st\n",
    "import matplotlib.pyplot as plt\n",
    "%matplotlib inline\n",
    "\n",
    "filea=open(\"KilledByPolice.csv\",\"r\",errors=\"ignore\")\n",
    "lista=[]\n",
    "for ii in filea:\n",
    "    lista.append(ii)\n",
    "del lista [0]\n",
    "for j in range (len(lista)):\n",
    "    lista[j]=lista[j].split(\",\")\n",
    "\n",
    "    \n",
    "fileb=open (\"PoliceViolence_city.csv\",\"r\",errors=\"ignore\")\n",
    "listb=[]\n",
    "for ii in fileb:\n",
    "    listb.append(ii);\n",
    "    \n",
    "del listb [0]\n",
    "for j in range (len(listb)):\n",
    "    listb[j]=listb[j].split(\",\")\n",
    "\n",
    "    \n",
    "    \n",
    "    "
   ]
  },
  {
   "cell_type": "markdown",
   "metadata": {},
   "source": [
    "# Introduction\n",
    "\n",
    "The code below analyzes a few different correlations between police violence and civilians. The first section analyzes the correlation between crimes correlated with police kills, and the black deaths (caused by police) correlated with the black population. By using linear regression in a scatter plot, you are able to easily interpret the data. The second part takes a look at which states are likely to have more deaths caused by police. The code is done for both all races and that of only the black race. Regardless of the results and analysis, there’s many factors to keep in mind while interpreting the data. There are many things that might skew the data and there just isn't enough information to fill those gaps. Many of the claims I make are speculations."
   ]
  },
  {
   "cell_type": "markdown",
   "metadata": {
    "collapsed": true
   },
   "source": [
    "# Section 1"
   ]
  },
  {
   "cell_type": "code",
   "execution_count": 8,
   "metadata": {
    "collapsed": false
   },
   "outputs": [
    {
     "name": "stdout",
     "output_type": "stream",
     "text": [
      "Crime Rate [8.8, 3.2, 8.6, 4.8, 12.3, 4.1, 4.0, 4.6, 13.4, 9.2, 15.9, 7.3, 12.3, 1.8, 5.9, 4.3, 8.8, 2.4, 9.1, 13.3, 4.6, 5.5, 6.6, 6.6, 6.0, 19.9, 7.3, 3.9, 3.2, 5.6, 1.2, 4.6, 2.7, 3.9, 4.8, 1.6, 3.3, 7.7, 9.9, 12.5, 0.5, 2.2, 6.8, 5.3, 12.5, 3.9, 8.4, 3.3, 3.4, 4.9, 4.9, 5.9, 8.6, 3.4, 17.4, 4.6, 10.6, 14.8, 10.1, 11.2, 9.7, 6.0, 10.8, 5.2, 7.8, 16.9, 7.7, 5.6, 9.0, 10.2, 5.7, 8.0, 1.7, 4.7, 3.9, 4.9, 4.3, 8.4, 6.1, 5.4, 9.9, 3.8, 8.0, 3.2, 3.7, 1.5, 6.0, 5.5, 16.8, 6.6, 8.6, 13.3, 5.8, 10.9, 6.4, 8.1, 1.5, 11.9, 7.9, 7.1]\n",
      "People Killed by Police [15.0, 8.0, 6.0, 5.0, 7.0, 11.0, 17.0, 16.0, 26.0, 5.0, 5.0, 7.0, 0.0, 2.0, 11.0, 2.0, 55.0, 1.0, 10.0, 6.0, 3.0, 23.0, 3.0, 28.0, 17.0, 9.0, 5.0, 11.0, 6.0, 15.0, 3.0, 16.0, 4.0, 5.0, 2.0, 5.0, 3.0, 8.0, 43.0, 23.0, 0.0, 4.0, 21.0, 3.0, 14.0, 4.0, 27.0, 3.0, 3.0, 16.0, 79.0, 9.0, 3.0, 6.0, 17.0, 12.0, 6.0, 10.0, 5.0, 7.0, 8.0, 57.0, 3.0, 11.0, 5.0, 8.0, 31.0, 13.0, 15.0, 20.0, 59.0, 5.0, 0.0, 7.0, 4.0, 8.0, 6.0, 3.0, 9.0, 26.0, 9.0, 20.0, 14.0, 12.0, 11.0, 6.0, 15.0, 8.0, 19.0, 10.0, 9.0, 14.0, 6.0, 4.0, 17.0, 11.0, 3.0, 13.0, 7.0, 3.0]\n",
      "0.341862056916 9.63406084378\n",
      "LinregressResult(slope=0.34186205691569327, intercept=9.6340608437767976, rvalue=0.10475329218455254, pvalue=0.29963347888839847, stderr=0.32784925505368107)\n"
     ]
    },
    {
     "data": {
      "text/plain": [
       "<matplotlib.collections.PathCollection at 0x1a7c2101978>"
      ]
     },
     "execution_count": 8,
     "metadata": {},
     "output_type": "execute_result"
    },
    {
     "data": {
      "image/png": "[encoded data removed]",
      "text/plain": [
       "<matplotlib.figure.Figure at 0x1a7c10a3b00>"
      ]
     },
     "metadata": {},
     "output_type": "display_data"
    }
   ],
   "source": [
    "crime_rate=[]\n",
    "\n",
    "for ii in range(len(listb)):\n",
    "    \n",
    "    crime_rate.append(float(listb[ii][18]))\n",
    "    \n",
    "print(\"Crime Rate\", crime_rate)\n",
    "\n",
    "\n",
    "police_kills=[]\n",
    "\n",
    "for ii in range (len(listb)):\n",
    "    police_kills.append(float(listb[ii][3]))\n",
    "    \n",
    "print(\"People Killed by Police\", police_kills)\n",
    "\n",
    "\n",
    "\n",
    "regression=st.linregress(crime_rate, police_kills)\n",
    "slope=regression[0]\n",
    "yint=regression[1]\n",
    "print(regression[0], regression[1])\n",
    "plt.plot([0,25], [yint, slope*25+yint])\n",
    "plt.ylabel(\"People Killed By Police\")\n",
    "plt.xlabel(\"Crime Rate (%)\")\n",
    "plt.title(\"Correlation Between Crime Rate and People Killed By Police\")\n",
    "\n",
    "\n",
    "print(st.linregress(crime_rate, police_kills))\n",
    "plt.scatter (crime_rate,police_kills)\n",
    "    \n",
    "\n",
    "\n"
   ]
  },
  {
   "cell_type": "code",
   "execution_count": 7,
   "metadata": {
    "collapsed": false
   },
   "outputs": [
    {
     "name": "stdout",
     "output_type": "stream",
     "text": [
      "Black Population [14878.0, 8209.0, 15308.0, 67087.0, 224316.0, 49003.0, 60760.0, 26677.0, 392938.0, 124542.0, 155258.0, 138073.0, 97637.0, 10580.0, 252007.0, 65204.0, 872286.0, 9972.0, 132307.0, 208208.0, 24391.0, 217694.0, 11912.0, 294159.0, 58388.0, 586573.0, 92285.0, 18155.0, 38514.0, 136941.0, 6743.0, 37885.0, 32164.0, 12766.0, 108233.0, 12471.0, 6066.0, 4642.0, 485956.0, 223053.0, 3494.0, 25550.0, 247516.0, 59060.0, 135916.0, 478.0, 62008.0, 42336.0, 9541.0, 59925.0, 347380.0, 135138.0, 18744.0, 16507.0, 408075.0, 14101.0, 64993.0, 233325.0, 69971.0, 169272.0, 204866.0, 1861295.0, 138074.0, 102452.0, 41561.0, 106637.0, 85744.0, 55128.0, 63584.0, 644287.0, 86788.0, 78847.0, 19199.0, 35462.0, 115976.0, 5990.0, 19917.0, 83346.0, 64967.0, 83365.0, 29897.0, 82497.0, 46781.0, 27508.0, 3177.0, 3484.0, 47113.0, 4643.0, 156389.0, 43620.0, 57489.0, 33507.0, 83032.0, 76820.0, 23362.0, 61230.0, 83210.0, 301053.0, 42676.0, 78065.0]\n",
      "Black People Killed by Police [3.0, 2.0, 0.0, 3.0, 5.0, 3.0, 2.0, 1.0, 22.0, 5.0, 4.0, 6.0, 0.0, 0.0, 8.0, 2.0, 39.0, 0.0, 7.0, 6.0, 0.0, 19.0, 0.0, 10.0, 0.0, 2.0, 2.0, 2.0, 4.0, 4.0, 0.0, 1.0, 2.0, 1.0, 1.0, 0.0, 1.0, 0.0, 24.0, 12.0, 0.0, 1.0, 13.0, 3.0, 7.0, 0.0, 3.0, 1.0, 1.0, 5.0, 19.0, 6.0, 0.0, 2.0, 10.0, 0.0, 3.0, 9.0, 3.0, 3.0, 5.0, 35.0, 1.0, 7.0, 2.0, 6.0, 15.0, 4.0, 7.0, 9.0, 5.0, 3.0, 0.0, 0.0, 3.0, 2.0, 2.0, 2.0, 2.0, 6.0, 0.0, 1.0, 3.0, 1.0, 1.0, 1.0, 2.0, 1.0, 17.0, 3.0, 2.0, 2.0, 1.0, 2.0, 2.0, 4.0, 2.0, 11.0, 1.0, 2.0]\n",
      "2.36170642686e-05 1.68465924853\n",
      "LinregressResult(slope=2.3617064268572185e-05, intercept=1.6846592485310801, rvalue=0.79236715618995801, pvalue=9.3150051603494948e-23, stderr=1.836741009251564e-06)\n"
     ]
    },
    {
     "data": {
      "text/plain": [
       "<matplotlib.collections.PathCollection at 0x1a7c10d9128>"
      ]
     },
     "execution_count": 7,
     "metadata": {},
     "output_type": "execute_result"
    },
    {
     "data": {
      "image/png": "[encoded data removed]",
      "text/plain": [
       "<matplotlib.figure.Figure at 0x1a7bd46a048>"
      ]
     },
     "metadata": {},
     "output_type": "display_data"
    }
   ],
   "source": [
    "black_population=[]\n",
    "\n",
    "for ii in range(len(listb)):\n",
    "    black_population.append(float(listb[ii][6]))\n",
    "    \n",
    "print(\"Black Population\", black_population)\n",
    "\n",
    "\n",
    "\n",
    "blacks_killedbypolice=[]\n",
    "\n",
    "for ii in range(len(listb)):\n",
    "    blacks_killedbypolice.append(float(listb[ii][4]))\n",
    "    \n",
    "print(\"Black People Killed by Police\", blacks_killedbypolice)\n",
    "\n",
    "\n",
    "\n",
    "regression=st.linregress(black_population, blacks_killedbypolice)\n",
    "slope=regression[0]\n",
    "yint=regression[1]\n",
    "print(regression[0], regression[1])\n",
    "plt.plot([0,2000000], [yint, slope*2000000+yint])\n",
    "plt.ylabel(\"Black People Killed by Police\")\n",
    "plt.xlabel(\"Black Population\")\n",
    "plt.title(\"Correlation Between Black People Killed and Their Population\")\n",
    "\n",
    "\n",
    "print(st.linregress(black_population, blacks_killedbypolice))\n",
    "plt.scatter (black_population, blacks_killedbypolice)\n",
    "    \n",
    "\n"
   ]
  },
  {
   "cell_type": "markdown",
   "metadata": {
    "collapsed": true
   },
   "source": [
    "# Part 1 Analysis\n",
    "\n",
    "\n",
    "For the first part, I correlated crime rates to police kills. I put the data onto a scatterplot and ran it through a linear regression. Clearly the linear regression does not fit the data, and from that you can infer that there is not much of a correlation between the two. As crime rate rises, there is not a strong trend showing the more people will get killed as well, in those higher crime rate areas. The \"r\" value from this scatter is 0.104, which is close enough to zero for there to might as well be no correlation. Although the \"r\" value is not the definitive answer to how well the data correlates, it does further help prove the point that the points are not tightly knit, thus making it harder to fit in the linear regression. From the points on the scatter plot it’s clear that there is no notable correlation between crime rate and police kills. There are many possible reasons as to why the two variables might not correlate. Officers in different areas also consist of different police academies and demographics. Maybe a \"whiter\" police force is more likely to pull a gun on minorities than a Black police force (No evidence cited, only a maybe). Police from different states also go to different police academies that can differ in teaching even if it is only slightly.\n",
    "    \n",
    "The next section focuses on a more specific correlation of black population versus black people killed by police. Just judging by the linear regression, it’s clear that the correlation is definitely positive and strong. The \"r\" value is numerically defining the correlation, in this case 0.8. \"1\", being the highest correlation, means that the points on the scatterplot align closely with the linear regression line. This helps further prove that the two variables do indeed correlate, and that as you have a higher black population, you'll also have more black deaths. This data also does make quite a lot of sense. Seeing as how higher crime rate areas do usually correlate with black neighborhoods, having a higher black population would only be a continuing trend of that correlation. This would lead to just a higher chance of being killed."
   ]
  },
  {
   "cell_type": "markdown",
   "metadata": {},
   "source": [
    "# Section 2"
   ]
  },
  {
   "cell_type": "code",
   "execution_count": 11,
   "metadata": {
    "collapsed": false
   },
   "outputs": [
    {
     "name": "stdout",
     "output_type": "stream",
     "text": [
      "total deaths [2.35585689582872e-05, 2.0560196829617647e-05, 3.2738868946631755e-05, 2.1705024767047682e-05, 2.3105653207996346e-05, 2.649371569063818e-05, 1.6666547619897955e-05, 2.372085300187395e-05, 2.0403635853714094e-05, 2.6998443400090863e-05, 1.830697129466901e-05, 1.3435743556441319e-05, 2.2674866828762893e-05, 4.187058446504692e-05, 1.133430700427789e-05, 1.2608980115638357e-05, 3.507934948854309e-05, 4.235759824716557e-05, 2.3975892240352324e-05, 1.649693761848009e-05, 1.1434299468114504e-05, 2.7479976257300514e-05, 6.938816293450867e-06, 1.3419151490948246e-05, 2.432128072470629e-05, 4.321410014353255e-05, 1.1990900619415666e-05, 8.412868593011666e-06, 1.922905895389112e-05, 1.8855450989419547e-05, 1.7718597661588072e-05, 2.8131941250721647e-05, 1.9322691361066228e-05]\n",
      "highest deathrate of any race of by police is oklahoma 4.321410014353255e-05\n"
     ]
    }
   ],
   "source": [
    "\n",
    "states_policekills=[5,6,101,242,31,60,7,8,55,29,7,12,13,26,7,9,10,33,16,45,6,15,60,25,43,42,7,25,24,163,16,23,16]\n",
    "\n",
    "\n",
    "total_states=[212237,291826,3085018,11149492,1341663,2264688,420003,337256,2695598,1074136,382368,893140,573322,620961,617594,713777,285068,779081,667337,2727779,524737,545852,8647008,1863009,1767999,971905,583776,2971638,1248111,8644715,903006,817576,828042]\n",
    "\n",
    "state_total=[]\n",
    "for ii in range(33):\n",
    "    state_total.append(states_policekills[ii]/total_states[ii])\n",
    "\n",
    "    \n",
    "print(\"total deaths\",state_total)\n",
    "print(\"highest deathrate of any race of by police is oklahoma\",max(state_total))"
   ]
  },
  {
   "cell_type": "code",
   "execution_count": 9,
   "metadata": {
    "collapsed": false
   },
   "outputs": [
    {
     "ename": "SyntaxError",
     "evalue": "invalid syntax (<ipython-input-9-046766ce21ef>, line 42)",
     "output_type": "error",
     "traceback": [
      "\u001b[1;36m  File \u001b[1;32m\"<ipython-input-9-046766ce21ef>\"\u001b[1;36m, line \u001b[1;32m42\u001b[0m\n\u001b[1;33m    new jersey=[6,524737]\u001b[0m\n\u001b[1;37m             ^\u001b[0m\n\u001b[1;31mSyntaxError\u001b[0m\u001b[1;31m:\u001b[0m invalid syntax\n"
     ]
    }
   ],
   "source": [
    "#D and F colunns\n",
    "#Examples of what we did for each state\n",
    "\n",
    "alaska=[6,291826]\n",
    "\n",
    "arizona=[101,3085018]\n",
    "\n",
    "california=[242,11149492]\n",
    "\n",
    "colorado=[31,1341663]\n",
    "\n",
    "florida=[60,2264688]\n",
    "\n",
    "georgia=[7,420003]\n",
    "\n",
    "hawaii=[8,337256]\n",
    "\n",
    "illinois=[55,2695598]\n",
    "\n",
    "indiana=[29,1074136]\n",
    "\n",
    "kansas=[7,382368]\n",
    "\n",
    "kentucky=[12,893140]\n",
    "\n",
    "louisiana=[13,573322]\n",
    "\n",
    "maryland=[26,620961]\n",
    "\n",
    "massachusetts=[7,617594]\n",
    "\n",
    "michigan=[9,713777]\n",
    "\n",
    "minnesota=[10,285068]\n",
    "\n",
    "missouri=[33,779081]\n",
    "\n",
    "nebraska=[16,667337]\n",
    "\n",
    "nevada=[45,2727779]\n",
    "\n",
    "new jersey=[6,524737]\n",
    "\n",
    "new mexico=[15,545852]\n",
    "\n",
    "new york=[60,8647008]\n",
    "\n",
    "north carolina=[25,1863009]\n",
    "\n",
    "ohio=[43,1767999]\n",
    "\n",
    "oklohoma=[42,971905]\n",
    "\n",
    "oregon=[7,583776]\n",
    "\n",
    "pennsylvania=[25,2971638]\n",
    "\n",
    "tennessee=[24,1248111]\n",
    "\n",
    "texas=[163,8644715]\n",
    "\n",
    "virginia=[16,903006]\n",
    "\n",
    "washington=[23,817576]\n",
    "\n",
    "wisconsin=[16,828042]"
   ]
  },
  {
   "cell_type": "code",
   "execution_count": 10,
   "metadata": {
    "collapsed": false
   },
   "outputs": [
    {
     "name": "stdout",
     "output_type": "stream",
     "text": [
      "total blacks killed by police [2.576356773886048e-05, 0.0, 5.957069386620422e-05, 5.026372062986998e-05, 2.2764869253767586e-05, 5.165684548863549e-05, 2.2289983772891813e-05, 0.0, 4.4710106547623145e-05, 6.116979588403735e-05, 2.3432374168150716e-05, 3.944239719620902e-05, 3.0357489799883426e-05, 5.598847655355298e-05, 4.3455273659585874e-05, 3.4096352883613803e-06, 6.87757909215956e-05, 8.210601939754709e-05, 7.731679784750035e-05, 5.736294353847415e-05, 2.0290766686619255e-05, 0.00020164000537706682, 1.8117024224909635e-05, 2.4746120272331055e-05, 5.354086191339293e-05, 0.00012927456556942045, 0.0, 1.6594434779722706e-05, 2.251678799751276e-05, 4.304606726346585e-05, 4.3848110146452686e-05, 5.796429399489914e-05, 2.001344903775337e-05]\n",
      "blacks most likely to be killed in New Mexico 0.00020164000537706682\n"
     ]
    }
   ],
   "source": [
    "\n",
    "\n",
    "black_killedbypolice=[4,0,9,46,3,27,5,0,39,16,1,7,10,22,6,2,3,24,5,7,4,3,37,16,34,19,0,12,13,54,11,3,5]\n",
    "\n",
    "black_population=[155258,15308,151081,915173,131782,522680,224316,4642,872286,261567,42676,177474,329408,392938,138073,586573,43620,292305,64669,122030,197134,14878,2042278,646566,635029,146974,35462,723134,577347,1254470,250866,51756,249832]\n",
    "\n",
    "\n",
    "blackstate_total=[]\n",
    "for ii in range(33):\n",
    "    blackstate_total.append(black_killedbypolice[ii]/black_population[ii])\n",
    "\n",
    "    \n",
    "print(\"total blacks killed by police\",blackstate_total)\n",
    "print(\"blacks most likely to be killed in New Mexico\",max(blackstate_total))"
   ]
  },
  {
   "cell_type": "markdown",
   "metadata": {
    "collapsed": true
   },
   "source": [
    "# Section 2 Analysis\n",
    "\n",
    "For this second section, I first looked at which state you're likely to be killed in. I took a list containing every single state (the ones included in the excel file) and took the population of each state and people killed by police. From this, dividing the people killed by police to the population would give me the percentage of people killed. Then taking the max value of the list would allow me to see which state has the highest percentage of the population killed by the police. The state with the highest percent population killed by police would be Oklahoma. Oklahoma’s violent crime rate isn't super high, but it's definitely a little bit above average. Many other factors could've come into play as well. We don't know much about the cops themselves and seeing as how that’s a big unknown variable in this case, I would say it's important. Maybe a majority of them are white? Even though blacks are the minority in Oklohoma, they are the second biggest race.\n",
    "\n",
    "For the next part I did the same thing except in a more specific fashion. Taking this time, the black people killed divided by the black population for each state. New Mexico was the state that had the highest rate of black deaths caused by police. Not making any conclusions, but New Mexico does have a very high white population compared to that of Blacks. While in Albuquerque the population of whites is at 229933, the black population is at 14878. If there is any sort of racism going on, then it wouldn't be unlikely that the black minorities would be on the short end of the stick.\n"
   ]
  },
  {
   "cell_type": "markdown",
   "metadata": {},
   "source": [
    "# Conclusion\n",
    "\n",
    "From the analysis, you can quite convincingly assume that there is lots of police violence towards blacks. Looking at part one, the scatterplot shows that the higher the black population, the more Blacks are killed. So obviously there is correlation between black communities and police violence. Although there could be many reasons, the correlation is fact. In part two, Oklahoma which had a high death rate of people killed by police, also had a very high population of black people (second largest race). Seeing as how bigger black communities have more police violence, this definitely makes sense. Lastly New Mexico, also had a highest rate of black deaths. It could be said that because of the racial imbalance towards minorities and especially blacks, the white majority oppresses the minorities (in this case African Americans). It's not impossible that because the black population is so small in New Mexico, that the Black people have less power. This could lead to many other justice imbalances. These are just speculations and some conclusions that can be drawn from the data in both sections. "
   ]
  },
  {
   "cell_type": "code",
   "execution_count": null,
   "metadata": {
    "collapsed": true
   },
   "outputs": [],
   "source": []
  }
 ],
 "metadata": {
  "anaconda-cloud": {},
  "kernelspec": {
   "display_name": "Python [Root]",
   "language": "python",
   "name": "Python [Root]"
  },
  "language_info": {
   "codemirror_mode": {
    "name": "ipython",
    "version": 3
   },
   "file_extension": ".py",
   "mimetype": "text/x-python",
   "name": "python",
   "nbconvert_exporter": "python",
   "pygments_lexer": "ipython3",
   "version": "3.5.2"
  }
 },
 "nbformat": 4,
 "nbformat_minor": 0
}
