{
 "cells": [
  {
   "cell_type": "markdown",
   "metadata": {},
   "source": [
    "# How Does Violent Crime Rate Affect Officer Deaths"
   ]
  },
  {
   "cell_type": "code",
   "execution_count": 2,
   "metadata": {
    "collapsed": false
   },
   "outputs": [],
   "source": [
    "import statistics\n",
    "import scipy.stats as st\n",
    "import matplotlib.pyplot as plt\n",
    "%matplotlib inline\n",
    "import operator\n",
    "\n",
    "filea=open(\"clean_data.csv\",\"r\",errors=\"ignore\")\n",
    "alist=[]\n",
    "for ii in filea:\n",
    "    alist.append(ii)\n",
    "del alist [0]\n",
    "for j in range (len(alist)):\n",
    "    alist[j]=alist[j].split(\",\")\n",
    "\n",
    "    \n",
    "fileb=open (\"estimated-violent-crime-rate.csv\",\"r\",errors=\"ignore\")\n",
    "blist=[]\n",
    "for ii in fileb:\n",
    "    blist.append(ii);\n",
    "    \n",
    "del blist [0]\n",
    "for j in range (len(blist)):\n",
    "    blist[j]=blist[j].split(\",\")"
   ]
  },
  {
   "cell_type": "code",
   "execution_count": 3,
   "metadata": {
    "collapsed": false
   },
   "outputs": [
    {
     "name": "stdout",
     "output_type": "stream",
     "text": [
      "1997 185\n",
      "1984 189\n",
      "2005 174\n",
      "1982 198\n",
      "1988 199\n",
      "1968 200\n",
      "1970 231\n",
      "1979 223\n",
      "1966 165\n",
      "1960 137\n",
      "1993 167\n",
      "1978 217\n",
      "1969 197\n",
      "2010 183\n",
      "1981 205\n",
      "2002 165\n",
      "1963 140\n",
      "1986 185\n",
      "1998 180\n",
      "1983 195\n",
      "1985 180\n",
      "2007 213\n",
      "1974 281\n",
      "1994 187\n",
      "1995 187\n",
      "1962 144\n",
      "1975 247\n",
      "1999 159\n",
      "1973 277\n",
      "2006 163\n",
      "1965 141\n",
      "2003 157\n",
      "1976 205\n",
      "1964 150\n",
      "2009 151\n",
      "2004 172\n",
      "1961 143\n",
      "2001 247\n",
      "1980 213\n",
      "1990 166\n",
      "2008 171\n",
      "1989 199\n",
      "1972 237\n",
      "1971 251\n",
      "1977 196\n",
      "2000 171\n",
      "1991 151\n",
      "1987 190\n",
      "1967 196\n",
      "1992 169\n",
      "1996 148\n",
      "[('2010', 183), ('2009', 151), ('2008', 171), ('2007', 213), ('2006', 163), ('2005', 174), ('2004', 172), ('2003', 157), ('2002', 165), ('2001', 247), ('2000', 171), ('1999', 159), ('1998', 180), ('1997', 185), ('1996', 148), ('1995', 187), ('1994', 187), ('1993', 167), ('1992', 169), ('1991', 151), ('1990', 166), ('1989', 199), ('1988', 199), ('1987', 190), ('1986', 185), ('1985', 180), ('1984', 189), ('1983', 195), ('1982', 198), ('1981', 205), ('1980', 213), ('1979', 223), ('1978', 217), ('1977', 196), ('1976', 205), ('1975', 247), ('1974', 281), ('1973', 277), ('1972', 237), ('1971', 251), ('1970', 231), ('1969', 197), ('1968', 200), ('1967', 196), ('1966', 165), ('1965', 141), ('1964', 150), ('1963', 140), ('1962', 144), ('1961', 143), ('1960', 137)]\n"
     ]
    }
   ],
   "source": [
    "#AVG rate in row 51\n",
    "peryear={\"1960\":0,\"1961\":0, \"1962\":0,\"1963\":0, \"1964\":0, \"1965\":0, \"1966\":0, \"1967\":0,\"1968\":0, \"1969\":0, \"1970\":0,\"1971\":0, \"1972\":0, \"1973\":0, \"1974\":0, \"1975\":0, \"1976\":0, \"1977\":0, \"1978\":0, \"1979\":0, \"1980\":0, \"1981\":0, \"1982\":0, \"1983\":0, \"1984\":0, \"1985\":0, \"1986\":0, \"1987\":0, \"1988\":0, \"1989\":0, \"1990\":0, \"1991\":0, \"1992\":0, \"1993\":0, \"1994\":0, \"1995\":0, \"1996\":0, \"1997\":0, \"1998\":0, \"1999\":0, \"2000\":0,\"2001\":0, \"2002\":0, \"2003\":0, \"2004\":0, \"2005\":0, \"2006\":0, \"2007\":0, \"2008\":0, \"2008\":0, \"2009\":0, \"2010\":0}\n",
    "\n",
    "deadofficers=[]\n",
    "\n",
    "for i in range (len(alist)):\n",
    "    deadofficers.append(alist[i][6])\n",
    "\n",
    "for i in range(len(deadofficers)):\n",
    "    if deadofficers [i] in peryear:\n",
    "        peryear[deadofficers[i]]+=1\n",
    "\n",
    "\n",
    "for y in peryear:\n",
    "    print(y,(peryear[y]))\n",
    "    \n",
    "sorteda= sorted(peryear.items(), key=operator.itemgetter(0), reverse=True)\n",
    "print(sorteda)\n",
    "    \n",
    "\n",
    "    "
   ]
  },
  {
   "cell_type": "code",
   "execution_count": 6,
   "metadata": {
    "collapsed": false
   },
   "outputs": [
    {
     "name": "stdout",
     "output_type": "stream",
     "text": [
      "{'': '', '1997': '495.674', '1984': '413.004', '2005': '401.5', '1982': '437.31', '1988': '466.352', '1976': '361.758', '1970': '261.408', '1979': '431.968', '1966': '159.152', '1960': '105.9102041', '1993': '567.956', '1978': '392.028', '1969': '233.402', '2010': '366.45', '1981': '453.572', '2002': '413.704', '1963': '111.2265306', '1986': '458.486', '1998': '467.844', '1983': '410.064', '1985': '426.998', '2007': '418.23', '1974': '353.306', '1994': '552.876', '1995': '539.428', '1962': '104.5244898', '1975': '376.754', '1999': '435.002', '1973': '317.688', '2006': '421.9', '1965': '144.56', '2003': '403.806', '1968': '210.796', '1964': '137.3346939', '2009': '387.688', '2004': '397.242', '1961': '103.1959184', '2001': '420.336', '1980': '454.712', '1990': '534.086', '2008': '407.618', '1989': '483.09', '1972': '299.046', '1971': '287.468', '1977': '372.152', '2000': '422.038', '1991': '558.042', '1987': '445.17', '1967': '182.416', '1992': '562.314', '1996': '505.844'}\n"
     ]
    }
   ],
   "source": [
    "#Crime Rate Per Year\n",
    "#Keep in mind that crime rate is spread from 1960-2010 in a five year interval.\n",
    "\n",
    "crime={}\n",
    "crimeyear=[]\n",
    "crimerate=[]\n",
    "\n",
    "for i in range (len(blist)):\n",
    "    crimeyear.append(blist[i][1])\n",
    "    \n",
    "for i in range (len(blist)):\n",
    "    crimerate.append(blist[i][0])\n",
    "    crime[crimeyear[i]]=crimerate[i]\n",
    "\n",
    "print(crime)\n",
    "    \n",
    "\n",
    "    \n",
    "    \n",
    "\n",
    "\n",
    "\n",
    " \n",
    "\n",
    "\n",
    "\n"
   ]
  },
  {
   "cell_type": "code",
   "execution_count": 5,
   "metadata": {
    "collapsed": false
   },
   "outputs": [
    {
     "name": "stdout",
     "output_type": "stream",
     "text": [
      "0.0803895885258 155.065538599\n",
      "LinregressResult(slope=0.080389588525776268, intercept=155.06553859862825, rvalue=0.33417576723482872, pvalue=0.3151800962017578, stderr=0.075577047195599975)\n"
     ]
    },
    {
     "data": {
      "text/plain": [
       "<matplotlib.collections.PathCollection at 0x18bc73810b8>"
      ]
     },
     "execution_count": 5,
     "metadata": {},
     "output_type": "execute_result"
    },
    {
     "data": {
      "image/png": "[encoded data removed]",
      "text/plain": [
       "<matplotlib.figure.Figure at 0x18bc71ea4e0>"
      ]
     },
     "metadata": {},
     "output_type": "display_data"
    }
   ],
   "source": [
    "#Ordered from 1960 to 2010 in five year intervals\n",
    "\n",
    "pocrimerate=[105.9102,144.56,261.408,376.754,454.712,426.998,534.086,539.428,422.038,401.5,366.45]\n",
    "\n",
    "podeath=[137,141,231,247,213,180,166,187,171,174,183]\n",
    "\n",
    "\n",
    "\n",
    "\n",
    "regression=st.linregress(pocrimerate, podeath)\n",
    "slope=regression[0]\n",
    "yint=regression[1]\n",
    "print(regression[0], regression[1])\n",
    "plt.plot([0,500], [yint, slope*500+yint])\n",
    "plt.ylabel(\"People Killed By Police\")\n",
    "plt.xlabel(\"Crime Rate (%)\")\n",
    "plt.title(\"Correlation Between Crime Rate and People Killed By Police\")\n",
    "\n",
    "\n",
    "print(st.linregress(pocrimerate, podeath))\n",
    "plt.scatter (pocrimerate,podeath)"
   ]
  },
  {
   "cell_type": "markdown",
   "metadata": {
    "collapsed": true
   },
   "source": [
    "# Analysis"
   ]
  },
  {
   "cell_type": "markdown",
   "metadata": {},
   "source": [
    "Although the correlation plot doesn't show years, it was definitley important when I was trying to making the scatter plot. First I assigned the years to how many officers were killed that year. Then I assigned years to the crime rate of that year. I made sure to do this so that I could have a nice spread of data from 1960-2010 with intervals of 5. Keep in mind that the scatter plot is just data from is not 100% in order. The main point is to see patterns over the years."
   ]
  },
  {
   "cell_type": "markdown",
   "metadata": {
    "collapsed": true
   },
   "source": [
    "As crime rate went up Police Killed also did, but definitely not in a linear pattern. I initially thought that it would be blatantly obvious as to what the outcome would be. It would somewhat conceptually make sense for police killed to go up steadily, along with the crime rate too. Looking at the correlation plot, it seems pretty consistent up until around 300% crime rate. At that point the graph starts getting a negative correlation. The two outlying data points near the 300% and 400% crime rate have lead me to believe that there isn't really much correlation in the first place. However there were many more factors than I expected. Violent crime didn't just involve police killings so violent crime rate each year can vary a lot. Maybe one year you have a lot of domestic abuse cases, but not a lot of police violence. Or another year it's vice versa. Police death also didn't only include murders. Only around half of them were related to gun violence, and the other half were natural causes like non-violent automobile crashes, heart attacks, and surprisingly a lot of aircraft deaths."
   ]
  },
  {
   "cell_type": "markdown",
   "metadata": {},
   "source": [
    "# Conclusion"
   ]
  },
  {
   "cell_type": "markdown",
   "metadata": {},
   "source": [
    "It may seem as though police deaths and crime rate would correlate very easily. But in my case the data I picked wasn't specific enough and covered to wide of an area. In order to make a better correlation I would need to only find police deaths that were violent. Then attach those to years. I would also have to take crime rate, and make it less broad by only including rates for incidents with police officers. With those two errors fixed, the correlation plot would have a better trend line and be much more accurate."
   ]
  },
  {
   "cell_type": "code",
   "execution_count": null,
   "metadata": {
    "collapsed": true
   },
   "outputs": [],
   "source": []
  }
 ],
 "metadata": {
  "anaconda-cloud": {},
  "kernelspec": {
   "display_name": "Python [Root]",
   "language": "python",
   "name": "Python [Root]"
  },
  "language_info": {
   "codemirror_mode": {
    "name": "ipython",
    "version": 3
   },
   "file_extension": ".py",
   "mimetype": "text/x-python",
   "name": "python",
   "nbconvert_exporter": "python",
   "pygments_lexer": "ipython3",
   "version": "3.5.2"
  }
 },
 "nbformat": 4,
 "nbformat_minor": 0
}
