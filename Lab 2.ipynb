{
 "cells": [
  {
   "cell_type": "markdown",
   "metadata": {},
   "source": [
    "# Bird Sightings!!!\n",
    "\n",
    "By Justin Kuo\n",
    "\n",
    "\n",
    "The first section of code essentially takes number of times each person spotted that type of bird. Not the number of birds they spotted, but instead the date they sited that type of bird. This data can expose the patterns/habbits of the birds as the seasons come and go. Whether its what type of whether they like, or the living habitats they need, its easy to see in a side by side comparison. Some of data is over several years while others might be just over the span of one year. This is also why some sighting numbers might come out a lot higher than others. Unless specificed however, it is just data from one year. Section two focuses more specifically on how many birds of those type were spotted during each watch. Because some people might not want to count, or are not necessarily sure how many unique birds of that type they saw, they did not give a value. I replaced this value with a relatively common number (in most cases), a one. Seeing the actualy bird count in section two sort of also tells us the commonality of that bird. Comparing it to other bird data you might be able to see the general difference in population, and how rare that bird might be.\n"
   ]
  },
  {
   "cell_type": "code",
   "execution_count": 74,
   "metadata": {
    "collapsed": false
   },
   "outputs": [],
   "source": [
    "import statistics \n",
    "import matplotlib.pyplot as plt\n",
    "%matplotlib inline \n",
    "\n",
    "filea=open(\"SnowyOwl.csv\", \"r\", errors=\"ignore\") \n",
    "alist=[]\n",
    "for row in filea:\n",
    "    alist.append(row)\n",
    "del alist[0]\n",
    "for j in range (len(alist)):\n",
    "    alist[j]=alist[j].split(\",\")\n",
    "    \n",
    "fileb=open(\"AnnasHummingbird.csv\", \"r\", errors=\"ignore\")\n",
    "blist=[]\n",
    "for row in fileb:\n",
    "    blist.append(row)\n",
    "del blist [0]\n",
    "for j in range (len(blist)):\n",
    "    blist[j]=blist[j].split(\",\")\n",
    "    \n",
    "filec=open(\"LazuliBunting.csv\", \"r\", errors=\"ignore\")\n",
    "clist=[]\n",
    "for row in filec:\n",
    "    clist.append(row)\n",
    "del clist [0]\n",
    "for j in range (len(clist)):\n",
    "    clist[j]=clist[j].split(\",\")\n",
    "    \n",
    "filed=open(\"Brambling.csv\", \"r\", errors=\"ignore\")\n",
    "dlist=[]\n",
    "for row in filed:\n",
    "    dlist.append(row)\n",
    "del dlist [0]\n",
    "for j in range (len(dlist)):\n",
    "    dlist[j]=dlist[j].split(\",\")\n",
    "\n",
    "filee=open(\"BlackSwift.csv\", errors=\"ignore\")\n",
    "elist=[]\n",
    "for row in filee:\n",
    "    elist.append(row)\n",
    "del elist [0]\n",
    "for j in range (len(elist)):\n",
    "    elist[j]=elist[j].split(\",\")\n",
    "    \n",
    "filef=open(\"HarlequinDuck.csv\", errors=\"ignore\")\n",
    "flist=[] \n",
    "for row in filef:\n",
    "    flist.append(row)\n",
    "del flist [0]\n",
    "for j in range (len(flist)):\n",
    "    flist[j]=flist[j].split(\",\")\n",
    "\n",
    "\n"
   ]
  },
  {
   "cell_type": "code",
   "execution_count": 75,
   "metadata": {
    "collapsed": false
   },
   "outputs": [
    {
     "name": "stdout",
     "output_type": "stream",
     "text": [
      "Snowy Owl Spotttings in November is 11\n",
      "Snow Owl Spotttings in December is 50\n",
      "Snowy Owl Spotttings in January is 57\n",
      "Snowy Owl Spotttings in February is 4\n",
      "Snowy Owl Spotttings in March is 4\n"
     ]
    }
   ],
   "source": [
    "#Number of occurence in January for the snowy owl\n",
    "# Delete Column Locality, Age Sex, Trip comments, species comments, \n",
    "\n",
    "\n",
    "november=0\n",
    "\n",
    "for row in alist:\n",
    "    if row[21][0:3]=='11/':\n",
    "        november+=1 \n",
    "print(\"Snowy Owl Spotttings in November is\", (november))\n",
    "\n",
    "december=0\n",
    "\n",
    "for row in alist:\n",
    "    if row[21][0:3]=='12/':\n",
    "        december+=1 \n",
    "\n",
    "print(\"Snow Owl Spotttings in December is\",(december))\n",
    "\n",
    "january=0\n",
    "\n",
    "for row in alist:\n",
    "    if row[21][0:2]=='1/':\n",
    "        january+=1  \n",
    "\n",
    "print(\"Snowy Owl Spotttings in January is\", (january))\n",
    "\n",
    "\n",
    "february=0\n",
    "\n",
    "for row in alist:\n",
    "    if row[21][0:2]=='2/':\n",
    "        february+=1  \n",
    "\n",
    "print(\"Snowy Owl Spotttings in February is\", (february))\n",
    "\n",
    "\n",
    "march=0\n",
    "\n",
    "\n",
    "for row in alist:\n",
    "    if row[21][0:2]=='3/':\n",
    "        march+=1  \n",
    "\n",
    "print(\"Snowy Owl Spotttings in March is\", (march))\n",
    "\n",
    "\n",
    "\n"
   ]
  },
  {
   "cell_type": "code",
   "execution_count": 76,
   "metadata": {
    "collapsed": false
   },
   "outputs": [
    {
     "name": "stdout",
     "output_type": "stream",
     "text": [
      "Annas Hummingbird Spottings in the span of 7 years from 2009-2016\n",
      "Annas Hummingbird spottings in January is 3220\n",
      "Annas Hummingbird spottings in February is 3055\n",
      "Annas Hummingbird spottings in March is 3166\n",
      "Annas Hummingbird spottings in April is 3217\n",
      "Annas Hummingbird spottings in May is 3317\n",
      "Annas Hummingbird spottings in June is 1861\n",
      "Annas Hummingbird spottings in July is 1657\n",
      "Annas Hummingbird spottings in August is 2181\n",
      "Annas Hummingbird spottings in September is 1726\n",
      "Annas Hummingbird spottings in October is 1726\n",
      "Annas Hummingbird spottings in November is 1581\n",
      "Annas Hummingbird spottings in December is 1971\n"
     ]
    }
   ],
   "source": [
    "print(\"Annas Hummingbird Spottings in the span of 7 years from 2009-2016\")\n",
    "\n",
    "\n",
    "january=0\n",
    "for row in blist:\n",
    "    if row[22][0:2]=='1/':\n",
    "        january+=1  \n",
    "\n",
    "print(\"Annas Hummingbird spottings in January is\", (january))\n",
    "\n",
    "\n",
    "february=0\n",
    "for row in blist:\n",
    "    if row[22][0:2]=='2/':\n",
    "        february+=1  \n",
    "\n",
    "print(\"Annas Hummingbird spottings in February is\", (february))\n",
    "\n",
    "\n",
    "march=0\n",
    "for row in blist:\n",
    "    if row[22][0:2]=='3/':\n",
    "        march+=1  \n",
    "\n",
    "print(\"Annas Hummingbird spottings in March is\", (march))\n",
    "\n",
    "\n",
    "april=0\n",
    "for row in blist:\n",
    "    if row[22][0:2]=='4/':\n",
    "        april+=1\n",
    "print(\"Annas Hummingbird spottings in April is\", (april))\n",
    "\n",
    "may=0\n",
    "for row in blist:\n",
    "    if row[22][0:2]=='5/':\n",
    "        may+=1\n",
    "print(\"Annas Hummingbird spottings in May is\", (may))\n",
    "\n",
    "june=0\n",
    "for row in blist:\n",
    "    if row[22][0:2]=='6/':\n",
    "        june+=1\n",
    "print(\"Annas Hummingbird spottings in June is\", (june))\n",
    "\n",
    "july=0\n",
    "for row in blist:\n",
    "    if row[22][0:2]=='7/':\n",
    "        july+=1\n",
    "print(\"Annas Hummingbird spottings in July is\", (july))\n",
    "\n",
    "august=0\n",
    "for row in blist:\n",
    "    if row[22][0:2]=='8/':\n",
    "        august+=1\n",
    "print(\"Annas Hummingbird spottings in August is\", (august))\n",
    "\n",
    "september=0\n",
    "for row in blist:\n",
    "    if row[22][0:2]=='9/':\n",
    "        september+=1\n",
    "print(\"Annas Hummingbird spottings in September is\", (september))\n",
    "\n",
    "october=0\n",
    "for row in blist:\n",
    "    if row[22][0:3]=='10/':\n",
    "        october+=1\n",
    "print(\"Annas Hummingbird spottings in October is\", (october))\n",
    "\n",
    "november=0\n",
    "\n",
    "for row in blist:\n",
    "    if row[22][0:3]=='11/':\n",
    "        november+=1 \n",
    "print(\"Annas Hummingbird spottings in November is\", (november))\n",
    "\n",
    "december=0\n",
    "\n",
    "for row in blist:\n",
    "    if row[22][0:3]=='12/':\n",
    "        december+=1 \n",
    "\n",
    "print(\"Annas Hummingbird spottings in December is\",(december))"
   ]
  },
  {
   "cell_type": "code",
   "execution_count": 77,
   "metadata": {
    "collapsed": false
   },
   "outputs": [
    {
     "name": "stdout",
     "output_type": "stream",
     "text": [
      "Lazuli Bunting spottings in May is 349\n",
      "Lazuli Bunting spottings in June is 311\n",
      "Lazuli Bunting spottings in July is 93\n",
      "Lazuli Bunting spottings in August is 19\n"
     ]
    }
   ],
   "source": [
    "\n",
    "may=0\n",
    "for row in clist:\n",
    "    if row[22][0:2]=='5/':\n",
    "        may+=1\n",
    "print(\"Lazuli Bunting spottings in May is\", (may))\n",
    "\n",
    "june=0\n",
    "for row in clist:\n",
    "    if row[22][0:2]=='6/':\n",
    "        june+=1\n",
    "print(\"Lazuli Bunting spottings in June is\", (june))\n",
    "\n",
    "july=0\n",
    "for row in clist:\n",
    "    if row[22][0:2]=='7/':\n",
    "        july+=1\n",
    "print(\"Lazuli Bunting spottings in July is\", (july))\n",
    "\n",
    "august=0\n",
    "for row in clist:\n",
    "    if row[22][0:2]=='8/':\n",
    "        august+=1\n",
    "print(\"Lazuli Bunting spottings in August is\", (august))\n",
    "\n",
    "\n"
   ]
  },
  {
   "cell_type": "code",
   "execution_count": 78,
   "metadata": {
    "collapsed": false
   },
   "outputs": [
    {
     "name": "stdout",
     "output_type": "stream",
     "text": [
      "Brambling Count in February is 29\n",
      "Brambling Count in March is 50\n",
      "Barmbling spottings in April is 6\n"
     ]
    }
   ],
   "source": [
    "\n",
    "february=0\n",
    "\n",
    "for row in dlist:\n",
    "    if row[22][0:2]=='2/':\n",
    "        february+=1  \n",
    "\n",
    "print(\"Brambling Count in February is\", (february))\n",
    "\n",
    "\n",
    "march=0\n",
    "\n",
    "\n",
    "for row in dlist:\n",
    "    if row[22][0:2]=='3/':\n",
    "        march+=1  \n",
    "\n",
    "print(\"Brambling Count in March is\", (march))\n",
    "\n",
    "\n",
    "april=0\n",
    "for row in dlist:\n",
    "    if row[22][0:2]=='4/':\n",
    "        april+=1\n",
    "print(\"Barmbling spottings in April is\", (april))"
   ]
  },
  {
   "cell_type": "code",
   "execution_count": 79,
   "metadata": {
    "collapsed": false
   },
   "outputs": [
    {
     "name": "stdout",
     "output_type": "stream",
     "text": [
      "Black Swift Spottings in a Span of 7 years from 2009-2016\n",
      "Black Swift Spottings in May is 57\n",
      "Black Swift spottings in June is 197\n",
      "Black Swift spottings in July is 80\n",
      "Black Swift spottings in August is 61\n"
     ]
    }
   ],
   "source": [
    "print(\"Black Swift Spottings in a Span of 7 years from 2009-2016\")\n",
    "\n",
    "\n",
    "may=0\n",
    "for row in elist:\n",
    "    if row[22][0:2]=='5/':\n",
    "        may+=1\n",
    "print(\"Black Swift Spottings in May is\", (may))\n",
    "\n",
    "june=0\n",
    "for row in elist:\n",
    "    if row[22][0:2]=='6/':\n",
    "        june+=1\n",
    "print(\"Black Swift spottings in June is\", (june))\n",
    "\n",
    "july=0\n",
    "for row in elist:\n",
    "    if row[22][0:2]=='7/':\n",
    "        july+=1\n",
    "print(\"Black Swift spottings in July is\", (july))\n",
    "\n",
    "august=0\n",
    "for row in elist:\n",
    "    if row[22][0:2]=='8/':\n",
    "        august+=1\n",
    "print(\"Black Swift spottings in August is\", (august))\n",
    "\n",
    "\n",
    "\n"
   ]
  },
  {
   "cell_type": "code",
   "execution_count": 80,
   "metadata": {
    "collapsed": false
   },
   "outputs": [
    {
     "name": "stdout",
     "output_type": "stream",
     "text": [
      "Harlequin Duck Spottings in the span of 7 years from 2009-2016\n",
      "Harlequin Duck spottings in January is 234\n",
      "Harlequin Duck spottings in February is 93\n",
      "Harlequin Duck spottings in March is 122\n",
      "Harlequin Duck spottings in April is 96\n",
      "Harlequin Duck spottings in May is 46\n",
      "Harlequin Duck spottings in June is 22\n",
      "Harlequin Duck spottings in July is 3\n",
      "Harlequin Duck spottings in August is 10\n",
      "Harlequin Duck spottings in September is 31\n",
      "Harlequin Duck spottings in October is 80\n",
      "Harlequin Duck spottings in November is 121\n",
      "Harlequin Duck spottings in December is 148\n"
     ]
    }
   ],
   "source": [
    "\n",
    "print(\"Harlequin Duck Spottings in the span of 7 years from 2009-2016\")\n",
    "\n",
    "\n",
    "january=0\n",
    "for row in flist:\n",
    "    if row[22][0:2]=='1/':\n",
    "        january+=1  \n",
    "\n",
    "print(\"Harlequin Duck spottings in January is\", (january))\n",
    "\n",
    "\n",
    "february=0\n",
    "for row in flist:\n",
    "    if row[22][0:2]=='2/':\n",
    "        february+=1  \n",
    "\n",
    "print(\"Harlequin Duck spottings in February is\", (february))\n",
    "\n",
    "\n",
    "march=0\n",
    "for row in flist:\n",
    "    if row[22][0:2]=='3/':\n",
    "        march+=1  \n",
    "\n",
    "print(\"Harlequin Duck spottings in March is\", (march))\n",
    "\n",
    "\n",
    "april=0\n",
    "for row in flist:\n",
    "    if row[22][0:2]=='4/':\n",
    "        april+=1\n",
    "print(\"Harlequin Duck spottings in April is\", (april))\n",
    "\n",
    "may=0\n",
    "for row in flist:\n",
    "    if row[22][0:2]=='5/':\n",
    "        may+=1\n",
    "print(\"Harlequin Duck spottings in May is\", (may))\n",
    "\n",
    "june=0\n",
    "for row in flist:\n",
    "    if row[22][0:2]=='6/':\n",
    "        june+=1\n",
    "print(\"Harlequin Duck spottings in June is\", (june))\n",
    "\n",
    "july=0\n",
    "for row in flist:\n",
    "    if row[22][0:2]=='7/':\n",
    "        july+=1\n",
    "print(\"Harlequin Duck spottings in July is\", (july))\n",
    "\n",
    "august=0\n",
    "for row in flist:\n",
    "    if row[22][0:2]=='8/':\n",
    "        august+=1\n",
    "print(\"Harlequin Duck spottings in August is\", (august))\n",
    "\n",
    "september=0\n",
    "for row in flist:\n",
    "    if row[22][0:2]=='9/':\n",
    "        september+=1\n",
    "print(\"Harlequin Duck spottings in September is\", (september))\n",
    "\n",
    "october=0\n",
    "for row in flist:\n",
    "    if row[22][0:3]=='10/':\n",
    "        october+=1\n",
    "print(\"Harlequin Duck spottings in October is\", (october))\n",
    "\n",
    "november=0\n",
    "\n",
    "for row in flist:\n",
    "    if row[22][0:3]=='11/':\n",
    "        november+=1 \n",
    "print(\"Harlequin Duck spottings in November is\", (november))\n",
    "\n",
    "december=0\n",
    "\n",
    "for row in flist:\n",
    "    if row[22][0:3]=='12/':\n",
    "        december+=1 \n",
    "\n",
    "print(\"Harlequin Duck spottings in December is\",(december))\n",
    "\n",
    "\n"
   ]
  },
  {
   "cell_type": "markdown",
   "metadata": {},
   "source": [
    "# Section 1 Analysis:\n",
    "\n",
    "Looking at the data for Snowy Owls, its clear that they were most often spotted during the winter. They were spotted the most during the peak of winter during December and January, and started immideatley fading out the moment it hit February and March. Snowy Owl is already a pretty suggestive name and it's not that big of a surprise that they're here mostly during the coldest months in winter. For Annas Hummingbirds, the data shows that they're a year round bird. However, they do tend to be most often spotted nearing and end of winter and into spring from the months January to May. This may suggest that prefer chilly temperatures but not ice cold like the Snowy Owls. After May, they immediately drop in 1/3 of spottings probably due to the hotter temperatures. However, seeing as though the Annas are still spotted year round, it should suggest that even when it does get cold they stay in a warmer shetler and maybe just go out into the open less. Lazuli Buntings on the other hand, seem to prefer the hottest temperatures. They are not a year round bird and seem to only stay rom the months May through August (even August having a tremendous drop in sightings). Also they are not sighted during most of the fall and winter seasons probably because of the temperature drop. Bramblings are only ever spotted from the months February through April (with a significant drop in April). This also suggests they like cold weather but not the coldest of weathers. Black Swifts, like only the two hottest months of the year being June and July. They immediatley started leaving the moment it hit August. Harlequin Ducks are a year round bird but are spotted the most during November through January. I would think that the water might be too cold for the ducks during this time around but I guess the oil secrettions from their feathers are enough to keep them warm. They get spotted a lot lest during Spring, Summer, and Fall.  "
   ]
  },
  {
   "cell_type": "code",
   "execution_count": 94,
   "metadata": {
    "collapsed": false
   },
   "outputs": [
    {
     "name": "stdout",
     "output_type": "stream",
     "text": [
      "Average of Snow Owls per Watch 1.2222222222222223\n",
      "Average of Annas Hummingbird per Watch 2.3944138363902643\n",
      "Average of Lazuli Buntings per Watch 1.7736093143596379\n",
      "Average of Bramblings per Watch 1\n",
      "Average of Black Swifts per Watch 6.033816425120773\n",
      "Average of Harlequin Ducks per Watch 4.452286282306163\n"
     ]
    },
    {
     "data": {
      "text/plain": [
       "<matplotlib.text.Text at 0x1c2cdb07cc0>"
      ]
     },
     "execution_count": 94,
     "metadata": {},
     "output_type": "execute_result"
    },
    {
     "data": {
      "image/png": "[encoded data removed]",
      "text/plain": [
       "<matplotlib.figure.Figure at 0x1c2cdb66160>"
      ]
     },
     "metadata": {},
     "output_type": "display_data"
    }
   ],
   "source": [
    "#take average of amount of birds per sighting and take the average for each bird. Make into list before graphing. \n",
    "\n",
    "observationlist=[]\n",
    "for row in alist:\n",
    "    observationlist.append(int(row[7]))\n",
    "print(\"Average of Snow Owls per Watch\", statistics.mean(observationlist))\n",
    "\n",
    "observationlistb=[]\n",
    "for row in blist:\n",
    "    observationlistb.append(int(row[7]))\n",
    "print(\"Average of Annas Hummingbird per Watch\", statistics.mean(observationlistb))\n",
    "\n",
    "\n",
    "observationlistc=[]\n",
    "for row in clist:\n",
    "    observationlistc.append(int(row[7]))\n",
    "print(\"Average of Lazuli Buntings per Watch\", statistics.mean(observationlistc))\n",
    "\n",
    "\n",
    "observationlistd=[]\n",
    "for row in dlist:\n",
    "    observationlistd.append(int(row[7]))\n",
    "print(\"Average of Bramblings per Watch\", statistics.mean(observationlistd))\n",
    "\n",
    "\n",
    "observationliste=[]\n",
    "for row in elist:\n",
    "    observationliste.append(int(row[7]))\n",
    "print(\"Average of Black Swifts per Watch\", statistics.mean(observationliste))\n",
    "\n",
    "\n",
    "observationlistf=[]\n",
    "for row in flist:\n",
    "    observationlistf.append(int(row[7]))\n",
    "print(\"Average of Harlequin Ducks per Watch\", statistics.mean(observationlistf))\n",
    "numList = [0,1,2,3,4,5]\n",
    "avgList = [statistics.mean(observationlist),statistics.mean(observationlistb), statistics.mean(observationlistc), statistics.mean(observationlistd),statistics.mean(observationliste),statistics.mean(observationlistf)]\n",
    "plt.bar(numList, avgList)\n",
    "plt.xticks(numList,[\"S. Owl\", \"A. Hbird\",\"L. Bunting\",\"Brambling\",\"Black Swift\",\"H Duck\"])\n",
    "plt.ylabel(\"Avg. No. of Birds per Sigting\")\n",
    "plt.title(\"Amount of bird spotteds during each bird watch \")\n",
    "\n",
    "\n",
    "\n",
    "\n",
    "    "
   ]
  },
  {
   "cell_type": "markdown",
   "metadata": {
    "collapsed": true
   },
   "source": [
    "# Section 2 Analysis\n",
    "\n",
    "This graph shows how many of each bird of that type were spotted per watch on average. Its clear that the Lazuli Buntings, Snowy Owls, and Bramblings are the least population dense as bird watchers only see about one of them per watch. Annas HummingBirds also seem pretty rare. Also seeing that the people who go bird watching will spend hours watching birds, seeing just one or two of the birds does seem quite rare. The Harlequin Ducks and Black Swifts on the other hand seem to appear in higher quantity whenever spotted, naybe suggesting they have a higher population density. Although population could be the case for some of these birds, maybe these birds just don't thrive much in the King County. For example, maybe the majority of Bramblings just don't live in King County and prefer some other environment (All hypopthetic). \n"
   ]
  },
  {
   "cell_type": "markdown",
   "metadata": {
    "collapsed": true
   },
   "source": [
    "# Conclusion\n",
    "Just from the data in section one, you can see approximately what type of temperatures the different species of birds like. Just having everything layed out and printed, its very easy to compare the different months and spottings pertaining to each of those months. Some of the birds that stay year round also seem to be more adaptable than other birds that only appear for a few months at a time. I say this because that If you were to stay year round, it would mean you would have to endure all the seasons, so obvously they need to be adaptable. For section two I did mention the possiblity for data skew in spottings. Theres a chance that some of these birds just don't like King County and aren't many of them are here. However, that might not necessarily relfect on their populationa as a whole of the species. And of course theres the chance of the human counting error. Its definitley not impossible that some of the bird watchers might've accidently spotted the same bird twice and marked it down as different birds and vice versa. "
   ]
  },
  {
   "cell_type": "code",
   "execution_count": null,
   "metadata": {
    "collapsed": true
   },
   "outputs": [],
   "source": []
  }
 ],
 "metadata": {
  "anaconda-cloud": {},
  "kernelspec": {
   "display_name": "Python [Root]",
   "language": "python",
   "name": "Python [Root]"
  },
  "language_info": {
   "codemirror_mode": {
    "name": "ipython",
    "version": 3
   },
   "file_extension": ".py",
   "mimetype": "text/x-python",
   "name": "python",
   "nbconvert_exporter": "python",
   "pygments_lexer": "ipython3",
   "version": "3.5.2"
  }
 },
 "nbformat": 4,
 "nbformat_minor": 0
}
